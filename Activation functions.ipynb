{
 "cells": [
  {
   "cell_type": "code",
   "execution_count": 1,
   "id": "6c78d3c9-b95a-496c-93a7-29706b60e321",
   "metadata": {
    "tags": []
   },
   "outputs": [],
   "source": [
    "import math\n"
   ]
  },
  {
   "cell_type": "markdown",
   "id": "da97decd-268a-4a30-9163-e8cf4f3f6576",
   "metadata": {
    "tags": []
   },
   "source": [
    "sigmoid activation function"
   ]
  },
  {
   "cell_type": "code",
   "execution_count": 3,
   "id": "52c7faea-27d9-4cad-9a00-bdab5a3f6596",
   "metadata": {
    "tags": []
   },
   "outputs": [],
   "source": [
    "def sigmoid(x):\n",
    "    return 1/ (1+ math.exp(-x))"
   ]
  },
  {
   "cell_type": "code",
   "execution_count": 17,
   "id": "5b57101c-557f-4f0c-bd0d-dbfc763f4ca5",
   "metadata": {
    "tags": []
   },
   "outputs": [
    {
     "data": {
      "text/plain": [
       "1.0"
      ]
     },
     "execution_count": 17,
     "metadata": {},
     "output_type": "execute_result"
    }
   ],
   "source": [
    "sigmoid(40)"
   ]
  },
  {
   "cell_type": "raw",
   "id": "02cffd0c-d16c-435c-9870-b832a184f2d5",
   "metadata": {
    "tags": []
   },
   "source": [
    "tanh activation function"
   ]
  },
  {
   "cell_type": "code",
   "execution_count": 19,
   "id": "38652a51-a3d5-48b6-9c0e-acad30c16038",
   "metadata": {
    "tags": []
   },
   "outputs": [],
   "source": [
    "def tanh(x):\n",
    "    return (math.exp(x)- math.exp(-x))/ (math.exp(x)+ math.exp(-x))"
   ]
  },
  {
   "cell_type": "code",
   "execution_count": 35,
   "id": "727dba12-9ea0-4d3d-9462-8a9dad82c95b",
   "metadata": {
    "tags": []
   },
   "outputs": [
    {
     "data": {
      "text/plain": [
       "0.0"
      ]
     },
     "execution_count": 35,
     "metadata": {},
     "output_type": "execute_result"
    }
   ],
   "source": [
    "tanh(0)"
   ]
  },
  {
   "cell_type": "markdown",
   "id": "e5ab2488-98e6-457b-bedc-4296708a7735",
   "metadata": {},
   "source": [
    "relu activation function"
   ]
  },
  {
   "cell_type": "code",
   "execution_count": 39,
   "id": "d56ff0a4-728e-4387-b68a-fa52da1c3bf8",
   "metadata": {
    "tags": []
   },
   "outputs": [],
   "source": [
    "def relu(x):\n",
    "    return max(0,x)"
   ]
  },
  {
   "cell_type": "code",
   "execution_count": 43,
   "id": "e08a3958-35e9-4603-83ad-b04e96d06398",
   "metadata": {
    "tags": []
   },
   "outputs": [
    {
     "data": {
      "text/plain": [
       "0"
      ]
     },
     "execution_count": 43,
     "metadata": {},
     "output_type": "execute_result"
    }
   ],
   "source": [
    "relu(-5)"
   ]
  },
  {
   "cell_type": "markdown",
   "id": "c5bc2848-e137-4c0f-83f9-af2b7b364dc9",
   "metadata": {},
   "source": [
    "leaky_relu activation function"
   ]
  },
  {
   "cell_type": "code",
   "execution_count": 46,
   "id": "7ac15dfc-9495-47dd-b71b-34ab01f32b7e",
   "metadata": {
    "tags": []
   },
   "outputs": [],
   "source": [
    "def leaky_relu(x):\n",
    "    return max(0.1*x,x)"
   ]
  },
  {
   "cell_type": "code",
   "execution_count": 48,
   "id": "6f1d0802-f61a-4e3f-9559-999874c0c41d",
   "metadata": {
    "tags": []
   },
   "outputs": [
    {
     "data": {
      "text/plain": [
       "9"
      ]
     },
     "execution_count": 48,
     "metadata": {},
     "output_type": "execute_result"
    }
   ],
   "source": [
    "leaky_relu(9)"
   ]
  },
  {
   "cell_type": "code",
   "execution_count": 50,
   "id": "46500ae3-fc9e-4a95-9e00-b7b1a70e2b1e",
   "metadata": {
    "tags": []
   },
   "outputs": [
    {
     "data": {
      "text/plain": [
       "-0.1"
      ]
     },
     "execution_count": 50,
     "metadata": {},
     "output_type": "execute_result"
    }
   ],
   "source": [
    "leaky_relu(-1)"
   ]
  },
  {
   "cell_type": "code",
   "execution_count": null,
   "id": "2ba7d7f7-9344-4278-bf86-ab1eed636b72",
   "metadata": {},
   "outputs": [],
   "source": []
  }
 ],
 "metadata": {
  "kernelspec": {
   "display_name": "Python 3 (ipykernel)",
   "language": "python",
   "name": "python3"
  },
  "language_info": {
   "codemirror_mode": {
    "name": "ipython",
    "version": 3
   },
   "file_extension": ".py",
   "mimetype": "text/x-python",
   "name": "python",
   "nbconvert_exporter": "python",
   "pygments_lexer": "ipython3",
   "version": "3.11.7"
  }
 },
 "nbformat": 4,
 "nbformat_minor": 5
}
