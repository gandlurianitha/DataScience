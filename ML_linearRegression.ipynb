{
 "cells": [
  {
   "cell_type": "markdown",
   "id": "d7eb257e-a48f-4b6b-9d4b-76b9d2668987",
   "metadata": {},
   "source": [
    "## Simple classification report "
   ]
  },
  {
   "cell_type": "code",
   "execution_count": 40,
   "id": "a94ff962-0814-41c3-aa8b-ba9983c159b1",
   "metadata": {},
   "outputs": [],
   "source": [
    "from sklearn import metrics"
   ]
  },
  {
   "cell_type": "code",
   "execution_count": 41,
   "id": "febb9084-0ad8-4de8-9911-d719bee3f3e5",
   "metadata": {},
   "outputs": [],
   "source": [
    "C=\"Cat\"\n",
    "D=\"Dog\"\n",
    "F=\"Fox\""
   ]
  },
  {
   "cell_type": "code",
   "execution_count": 42,
   "id": "16504526-6ad9-42f4-928d-325f954e4cd4",
   "metadata": {},
   "outputs": [],
   "source": [
    "y_true=[C,C,C,C,C,C,F,F,F,F,F,F,F,F,F,F,D,D,D,D,D,D,D,D,D]\n",
    "y_pred=[C,C,C,C,D,F,C,C,C,C,C,C,D,D,F,F,C,C,C,D,D,D,D,D,D]"
   ]
  },
  {
   "cell_type": "code",
   "execution_count": 43,
   "id": "5b4675f2-1166-45c8-b017-d72a0c4b2fd5",
   "metadata": {},
   "outputs": [
    {
     "name": "stdout",
     "output_type": "stream",
     "text": [
      "[[4 1 1]\n",
      " [3 6 0]\n",
      " [6 2 2]]\n"
     ]
    }
   ],
   "source": [
    "print(metrics.confusion_matrix(y_true,y_pred))"
   ]
  },
  {
   "cell_type": "code",
   "execution_count": 44,
   "id": "27a559f3-a3e4-4aaa-a88f-5fe0a88c0236",
   "metadata": {},
   "outputs": [
    {
     "name": "stdout",
     "output_type": "stream",
     "text": [
      "              precision    recall  f1-score   support\n",
      "\n",
      "         Cat      0.308     0.667     0.421         6\n",
      "         Dog      0.667     0.667     0.667         9\n",
      "         Fox      0.667     0.200     0.308        10\n",
      "\n",
      "    accuracy                          0.480        25\n",
      "   macro avg      0.547     0.511     0.465        25\n",
      "weighted avg      0.581     0.480     0.464        25\n",
      "\n"
     ]
    }
   ],
   "source": [
    "print(metrics.classification_report(y_true,y_pred,digits=3))"
   ]
  },
  {
   "cell_type": "code",
   "execution_count": 45,
   "id": "c3fbc8b2-53d8-4525-8f05-134ec097c4f3",
   "metadata": {},
   "outputs": [
    {
     "name": "stdout",
     "output_type": "stream",
     "text": [
      "F= 0.5555555555555556\n"
     ]
    }
   ],
   "source": [
    "from sklearn.metrics import fbeta_score\n",
    "y_true = [0,0,0,0,0,1,1,1,1,1]\n",
    "y_pred = [1,1,1,1,1,1,1,1,1,1]\n",
    "f= fbeta_score(y_true, y_pred, beta = 0.5)\n",
    "print('F=', f)"
   ]
  },
  {
   "cell_type": "markdown",
   "id": "3a43d75b-f8f9-4a02-86f4-3b2027cf6dc8",
   "metadata": {
    "tags": []
   },
   "source": [
    "## Predict Home prices using simple linear regression"
   ]
  },
  {
   "cell_type": "code",
   "execution_count": 46,
   "id": "6123c771-ec56-4b06-93de-33049a5deb75",
   "metadata": {},
   "outputs": [],
   "source": [
    "import numpy as np\n",
    "import pandas as pd\n",
    "import matplotlib.pyplot as plt\n",
    "from sklearn import metrics,linear_model"
   ]
  },
  {
   "cell_type": "code",
   "execution_count": 47,
   "id": "e29718ed-03e5-4c04-8305-c7b771b1930b",
   "metadata": {},
   "outputs": [
    {
     "data": {
      "text/html": [
       "<div>\n",
       "<style scoped>\n",
       "    .dataframe tbody tr th:only-of-type {\n",
       "        vertical-align: middle;\n",
       "    }\n",
       "\n",
       "    .dataframe tbody tr th {\n",
       "        vertical-align: top;\n",
       "    }\n",
       "\n",
       "    .dataframe thead th {\n",
       "        text-align: right;\n",
       "    }\n",
       "</style>\n",
       "<table border=\"1\" class=\"dataframe\">\n",
       "  <thead>\n",
       "    <tr style=\"text-align: right;\">\n",
       "      <th></th>\n",
       "      <th>Area</th>\n",
       "      <th>Price</th>\n",
       "    </tr>\n",
       "  </thead>\n",
       "  <tbody>\n",
       "    <tr>\n",
       "      <th>0</th>\n",
       "      <td>2600</td>\n",
       "      <td>550000</td>\n",
       "    </tr>\n",
       "    <tr>\n",
       "      <th>1</th>\n",
       "      <td>3000</td>\n",
       "      <td>565000</td>\n",
       "    </tr>\n",
       "    <tr>\n",
       "      <th>2</th>\n",
       "      <td>3200</td>\n",
       "      <td>610000</td>\n",
       "    </tr>\n",
       "    <tr>\n",
       "      <th>3</th>\n",
       "      <td>3600</td>\n",
       "      <td>680000</td>\n",
       "    </tr>\n",
       "    <tr>\n",
       "      <th>4</th>\n",
       "      <td>4000</td>\n",
       "      <td>725000</td>\n",
       "    </tr>\n",
       "  </tbody>\n",
       "</table>\n",
       "</div>"
      ],
      "text/plain": [
       "   Area   Price\n",
       "0  2600  550000\n",
       "1  3000  565000\n",
       "2  3200  610000\n",
       "3  3600  680000\n",
       "4  4000  725000"
      ]
     },
     "execution_count": 47,
     "metadata": {},
     "output_type": "execute_result"
    }
   ],
   "source": [
    "df=pd.read_csv(\"/Users\\AnithaGandluri/OneDrive/Anitha/Project management/Data Science/New folder/Homeprices.csv\")\n",
    "df"
   ]
  },
  {
   "cell_type": "code",
   "execution_count": 48,
   "id": "cf0ee56b-26d8-4570-b8f9-112d91315a8b",
   "metadata": {},
   "outputs": [
    {
     "name": "stderr",
     "output_type": "stream",
     "text": [
      "C:\\Users\\AnithaGandluri\\anaconda3\\lib\\site-packages\\sklearn\\base.py:493: FutureWarning: The feature names should match those that were passed during fit. Starting version 1.2, an error will be raised.\n",
      "Feature names unseen at fit time:\n",
      "- Area\n",
      "Feature names seen at fit time, yet now missing:\n",
      "- experience\n",
      "- interview_score\n",
      "- test_score\n",
      "\n",
      "  warnings.warn(message, FutureWarning)\n"
     ]
    },
    {
     "ename": "ValueError",
     "evalue": "X has 1 features, but LinearRegression is expecting 3 features as input.",
     "output_type": "error",
     "traceback": [
      "\u001b[1;31m---------------------------------------------------------------------------\u001b[0m",
      "\u001b[1;31mValueError\u001b[0m                                Traceback (most recent call last)",
      "Input \u001b[1;32mIn [48]\u001b[0m, in \u001b[0;36m<cell line: 5>\u001b[1;34m()\u001b[0m\n\u001b[0;32m      3\u001b[0m plt\u001b[38;5;241m.\u001b[39mylabel(\u001b[38;5;124m\"\u001b[39m\u001b[38;5;124mprice(US $)\u001b[39m\u001b[38;5;124m\"\u001b[39m)\n\u001b[0;32m      4\u001b[0m plt\u001b[38;5;241m.\u001b[39mscatter(df\u001b[38;5;241m.\u001b[39mArea,df\u001b[38;5;241m.\u001b[39mPrice,marker\u001b[38;5;241m=\u001b[39m\u001b[38;5;124m\"\u001b[39m\u001b[38;5;124m+\u001b[39m\u001b[38;5;124m\"\u001b[39m,color\u001b[38;5;241m=\u001b[39m\u001b[38;5;124m'\u001b[39m\u001b[38;5;124mred\u001b[39m\u001b[38;5;124m'\u001b[39m)\n\u001b[1;32m----> 5\u001b[0m plt\u001b[38;5;241m.\u001b[39mplot(df\u001b[38;5;241m.\u001b[39mArea,\u001b[43mreg\u001b[49m\u001b[38;5;241;43m.\u001b[39;49m\u001b[43mpredict\u001b[49m\u001b[43m(\u001b[49m\u001b[43mdf\u001b[49m\u001b[43m[\u001b[49m\u001b[43m[\u001b[49m\u001b[38;5;124;43m\"\u001b[39;49m\u001b[38;5;124;43mArea\u001b[39;49m\u001b[38;5;124;43m\"\u001b[39;49m\u001b[43m]\u001b[49m\u001b[43m]\u001b[49m\u001b[43m)\u001b[49m,color\u001b[38;5;241m=\u001b[39m\u001b[38;5;124m\"\u001b[39m\u001b[38;5;124mblue\u001b[39m\u001b[38;5;124m\"\u001b[39m)\n",
      "File \u001b[1;32m~\\anaconda3\\lib\\site-packages\\sklearn\\linear_model\\_base.py:362\u001b[0m, in \u001b[0;36mLinearModel.predict\u001b[1;34m(self, X)\u001b[0m\n\u001b[0;32m    348\u001b[0m \u001b[38;5;28;01mdef\u001b[39;00m \u001b[38;5;21mpredict\u001b[39m(\u001b[38;5;28mself\u001b[39m, X):\n\u001b[0;32m    349\u001b[0m     \u001b[38;5;124;03m\"\"\"\u001b[39;00m\n\u001b[0;32m    350\u001b[0m \u001b[38;5;124;03m    Predict using the linear model.\u001b[39;00m\n\u001b[0;32m    351\u001b[0m \n\u001b[1;32m   (...)\u001b[0m\n\u001b[0;32m    360\u001b[0m \u001b[38;5;124;03m        Returns predicted values.\u001b[39;00m\n\u001b[0;32m    361\u001b[0m \u001b[38;5;124;03m    \"\"\"\u001b[39;00m\n\u001b[1;32m--> 362\u001b[0m     \u001b[38;5;28;01mreturn\u001b[39;00m \u001b[38;5;28;43mself\u001b[39;49m\u001b[38;5;241;43m.\u001b[39;49m\u001b[43m_decision_function\u001b[49m\u001b[43m(\u001b[49m\u001b[43mX\u001b[49m\u001b[43m)\u001b[49m\n",
      "File \u001b[1;32m~\\anaconda3\\lib\\site-packages\\sklearn\\linear_model\\_base.py:345\u001b[0m, in \u001b[0;36mLinearModel._decision_function\u001b[1;34m(self, X)\u001b[0m\n\u001b[0;32m    342\u001b[0m \u001b[38;5;28;01mdef\u001b[39;00m \u001b[38;5;21m_decision_function\u001b[39m(\u001b[38;5;28mself\u001b[39m, X):\n\u001b[0;32m    343\u001b[0m     check_is_fitted(\u001b[38;5;28mself\u001b[39m)\n\u001b[1;32m--> 345\u001b[0m     X \u001b[38;5;241m=\u001b[39m \u001b[38;5;28;43mself\u001b[39;49m\u001b[38;5;241;43m.\u001b[39;49m\u001b[43m_validate_data\u001b[49m\u001b[43m(\u001b[49m\u001b[43mX\u001b[49m\u001b[43m,\u001b[49m\u001b[43m \u001b[49m\u001b[43maccept_sparse\u001b[49m\u001b[38;5;241;43m=\u001b[39;49m\u001b[43m[\u001b[49m\u001b[38;5;124;43m\"\u001b[39;49m\u001b[38;5;124;43mcsr\u001b[39;49m\u001b[38;5;124;43m\"\u001b[39;49m\u001b[43m,\u001b[49m\u001b[43m \u001b[49m\u001b[38;5;124;43m\"\u001b[39;49m\u001b[38;5;124;43mcsc\u001b[39;49m\u001b[38;5;124;43m\"\u001b[39;49m\u001b[43m,\u001b[49m\u001b[43m \u001b[49m\u001b[38;5;124;43m\"\u001b[39;49m\u001b[38;5;124;43mcoo\u001b[39;49m\u001b[38;5;124;43m\"\u001b[39;49m\u001b[43m]\u001b[49m\u001b[43m,\u001b[49m\u001b[43m \u001b[49m\u001b[43mreset\u001b[49m\u001b[38;5;241;43m=\u001b[39;49m\u001b[38;5;28;43;01mFalse\u001b[39;49;00m\u001b[43m)\u001b[49m\n\u001b[0;32m    346\u001b[0m     \u001b[38;5;28;01mreturn\u001b[39;00m safe_sparse_dot(X, \u001b[38;5;28mself\u001b[39m\u001b[38;5;241m.\u001b[39mcoef_\u001b[38;5;241m.\u001b[39mT, dense_output\u001b[38;5;241m=\u001b[39m\u001b[38;5;28;01mTrue\u001b[39;00m) \u001b[38;5;241m+\u001b[39m \u001b[38;5;28mself\u001b[39m\u001b[38;5;241m.\u001b[39mintercept_\n",
      "File \u001b[1;32m~\\anaconda3\\lib\\site-packages\\sklearn\\base.py:585\u001b[0m, in \u001b[0;36mBaseEstimator._validate_data\u001b[1;34m(self, X, y, reset, validate_separately, **check_params)\u001b[0m\n\u001b[0;32m    582\u001b[0m     out \u001b[38;5;241m=\u001b[39m X, y\n\u001b[0;32m    584\u001b[0m \u001b[38;5;28;01mif\u001b[39;00m \u001b[38;5;129;01mnot\u001b[39;00m no_val_X \u001b[38;5;129;01mand\u001b[39;00m check_params\u001b[38;5;241m.\u001b[39mget(\u001b[38;5;124m\"\u001b[39m\u001b[38;5;124mensure_2d\u001b[39m\u001b[38;5;124m\"\u001b[39m, \u001b[38;5;28;01mTrue\u001b[39;00m):\n\u001b[1;32m--> 585\u001b[0m     \u001b[38;5;28;43mself\u001b[39;49m\u001b[38;5;241;43m.\u001b[39;49m\u001b[43m_check_n_features\u001b[49m\u001b[43m(\u001b[49m\u001b[43mX\u001b[49m\u001b[43m,\u001b[49m\u001b[43m \u001b[49m\u001b[43mreset\u001b[49m\u001b[38;5;241;43m=\u001b[39;49m\u001b[43mreset\u001b[49m\u001b[43m)\u001b[49m\n\u001b[0;32m    587\u001b[0m \u001b[38;5;28;01mreturn\u001b[39;00m out\n",
      "File \u001b[1;32m~\\anaconda3\\lib\\site-packages\\sklearn\\base.py:400\u001b[0m, in \u001b[0;36mBaseEstimator._check_n_features\u001b[1;34m(self, X, reset)\u001b[0m\n\u001b[0;32m    397\u001b[0m     \u001b[38;5;28;01mreturn\u001b[39;00m\n\u001b[0;32m    399\u001b[0m \u001b[38;5;28;01mif\u001b[39;00m n_features \u001b[38;5;241m!=\u001b[39m \u001b[38;5;28mself\u001b[39m\u001b[38;5;241m.\u001b[39mn_features_in_:\n\u001b[1;32m--> 400\u001b[0m     \u001b[38;5;28;01mraise\u001b[39;00m \u001b[38;5;167;01mValueError\u001b[39;00m(\n\u001b[0;32m    401\u001b[0m         \u001b[38;5;124mf\u001b[39m\u001b[38;5;124m\"\u001b[39m\u001b[38;5;124mX has \u001b[39m\u001b[38;5;132;01m{\u001b[39;00mn_features\u001b[38;5;132;01m}\u001b[39;00m\u001b[38;5;124m features, but \u001b[39m\u001b[38;5;132;01m{\u001b[39;00m\u001b[38;5;28mself\u001b[39m\u001b[38;5;241m.\u001b[39m\u001b[38;5;18m__class__\u001b[39m\u001b[38;5;241m.\u001b[39m\u001b[38;5;18m__name__\u001b[39m\u001b[38;5;132;01m}\u001b[39;00m\u001b[38;5;124m \u001b[39m\u001b[38;5;124m\"\u001b[39m\n\u001b[0;32m    402\u001b[0m         \u001b[38;5;124mf\u001b[39m\u001b[38;5;124m\"\u001b[39m\u001b[38;5;124mis expecting \u001b[39m\u001b[38;5;132;01m{\u001b[39;00m\u001b[38;5;28mself\u001b[39m\u001b[38;5;241m.\u001b[39mn_features_in_\u001b[38;5;132;01m}\u001b[39;00m\u001b[38;5;124m features as input.\u001b[39m\u001b[38;5;124m\"\u001b[39m\n\u001b[0;32m    403\u001b[0m     )\n",
      "\u001b[1;31mValueError\u001b[0m: X has 1 features, but LinearRegression is expecting 3 features as input."
     ]
    },
    {
     "data": {
      "image/png": "[encoded data removed]",
      "text/plain": [
       "<Figure size 432x288 with 1 Axes>"
      ]
     },
     "metadata": {
      "needs_background": "light"
     },
     "output_type": "display_data"
    }
   ],
   "source": [
    "%matplotlib inline\n",
    "plt.xlabel(\"area(sqft)\")\n",
    "plt.ylabel(\"price(US $)\")\n",
    "plt.scatter(df.Area,df.Price,marker=\"+\",color='red')\n",
    "plt.plot(df.Area,reg.predict(df[[\"Area\"]]),color=\"blue\")"
   ]
  },
  {
   "cell_type": "code",
   "execution_count": null,
   "id": "5f4ba015-043c-417b-b3a8-dbe154792ba3",
   "metadata": {},
   "outputs": [],
   "source": [
    "reg=linear_model.LinearRegression()\n",
    "reg.fit(df[['Area']],df.Price)"
   ]
  },
  {
   "cell_type": "code",
   "execution_count": null,
   "id": "88e38a3f-b17f-4d11-8bc5-8c805b8d9c9e",
   "metadata": {},
   "outputs": [],
   "source": [
    "reg.coef_"
   ]
  },
  {
   "cell_type": "code",
   "execution_count": null,
   "id": "d96b58bb-0d7a-4c5a-a3b7-3925dd87f781",
   "metadata": {},
   "outputs": [],
   "source": [
    "reg.intercept_"
   ]
  },
  {
   "cell_type": "code",
   "execution_count": null,
   "id": "8f4b4701-6a30-4e64-9734-e4ccf80a03b2",
   "metadata": {},
   "outputs": [],
   "source": [
    "xpred=3300"
   ]
  },
  {
   "cell_type": "code",
   "execution_count": null,
   "id": "fa41f0e4-92e6-4d17-a289-dd546ddd2167",
   "metadata": {},
   "outputs": [],
   "source": [
    "xpred=np.array(xpred).reshape(1,-1)\n",
    "reg.predict(xpred)\n",
    "#ypred.reshape(-1,1)"
   ]
  },
  {
   "cell_type": "code",
   "execution_count": null,
   "id": "5357ce07-2316-4695-8bbd-409dcc0d6ec8",
   "metadata": {},
   "outputs": [],
   "source": [
    "d=pd.read_csv(\"/Users\\AnithaGandluri/OneDrive/Anitha/Project management/Data Science/New folder/Areas.csv\")\n",
    "d"
   ]
  },
  {
   "cell_type": "code",
   "execution_count": null,
   "id": "44e82a00-bba5-42d4-90c8-5b149e75eb82",
   "metadata": {},
   "outputs": [],
   "source": [
    "pred=reg.predict(d)"
   ]
  },
  {
   "cell_type": "code",
   "execution_count": null,
   "id": "39d9229d-8d00-4787-9ad7-4cd217e6bc96",
   "metadata": {},
   "outputs": [],
   "source": [
    "d[\"Prices\"]=np.round(pred,2)"
   ]
  },
  {
   "cell_type": "code",
   "execution_count": null,
   "id": "a2ad9ad3-a55a-4666-bd8c-35b5a721cc60",
   "metadata": {},
   "outputs": [],
   "source": [
    "d"
   ]
  },
  {
   "cell_type": "code",
   "execution_count": null,
   "id": "df3f040f-f810-4c7f-9fab-e186f18c6510",
   "metadata": {},
   "outputs": [],
   "source": [
    "d.to_csv(\"/Users\\AnithaGandluri/OneDrive/Anitha/Project management/Data Science/New folder/Areas.csv\")"
   ]
  },
  {
   "cell_type": "markdown",
   "id": "f4529694-afc0-4904-b79d-164bad029187",
   "metadata": {
    "jp-MarkdownHeadingCollapsed": true,
    "tags": []
   },
   "source": [
    "## Finding the per_capita_income for the year 2023"
   ]
  },
  {
   "cell_type": "code",
   "execution_count": null,
   "id": "2806d8ca-80f2-4090-874b-216745e0bbc8",
   "metadata": {},
   "outputs": [],
   "source": [
    "import numpy as np\n",
    "import pandas as pd\n",
    "import matplotlib.pyplot as plt\n",
    "from sklearn import metrics,linear_model"
   ]
  },
  {
   "cell_type": "code",
   "execution_count": null,
   "id": "b8604c95-79f7-4e05-8131-ad99346bbc92",
   "metadata": {},
   "outputs": [],
   "source": [
    "data=pd.read_csv(\"/Users\\AnithaGandluri/OneDrive/Anitha/Project management/Data Science/New folder/canada_per_capita_income.csv\")\n",
    "#data"
   ]
  },
  {
   "cell_type": "code",
   "execution_count": null,
   "id": "5dbf6d01-4efb-4bd8-b09c-98bfad55407f",
   "metadata": {},
   "outputs": [],
   "source": [
    "%matplotlib inline\n",
    "plt.xlabel(\"year\")\n",
    "plt.ylabel(\"per_capita_income\")\n",
    "plt.scatter(data.year,data.per_capita_income,marker=\"+\",color='red')\n",
    "reg=linear_model.LinearRegression()\n",
    "reg.fit(data[['year']],data.per_capita_income)\n",
    "plt.plot(data.year,reg.predict(data[[\"per_capita_income\"]]),color=\"blue\")"
   ]
  },
  {
   "cell_type": "code",
   "execution_count": null,
   "id": "d0935cf6-23c3-4025-b17e-24a885a50653",
   "metadata": {},
   "outputs": [],
   "source": [
    "reg=linear_model.LinearRegression()\n",
    "reg.fit(data[['year']],data.per_capita_income)"
   ]
  },
  {
   "cell_type": "code",
   "execution_count": null,
   "id": "8cc6eba0-dc2d-4690-80e0-649a1566fb4e",
   "metadata": {},
   "outputs": [],
   "source": [
    "xpred=2023\n",
    "xpred=np.array(xpred).reshape(1,-1)\n",
    "reg.predict(xpred)\n"
   ]
  },
  {
   "cell_type": "code",
   "execution_count": null,
   "id": "acc89953-56ac-4962-b633-01b74dd9922b",
   "metadata": {},
   "outputs": [],
   "source": [
    "%matplotlib inline\n",
    "plt.xlabel(\"year\")\n",
    "plt.ylabel(\"per_capita_income\")\n",
    "plt.scatter(data.year,data.per_capita_income,marker=\"+\",color='red')\n",
    "plt.plot(data.per_capita_income,reg.predict(data[[\"per_capita_income\"]]),color=\"blue\")"
   ]
  },
  {
   "cell_type": "markdown",
   "id": "d8d7587c-3600-41fc-be3c-56cd7913d460",
   "metadata": {
    "jp-MarkdownHeadingCollapsed": true,
    "tags": []
   },
   "source": [
    "## Predict home prices with multiple variables"
   ]
  },
  {
   "cell_type": "code",
   "execution_count": null,
   "id": "3576b8b1-2fc9-4048-80e4-ca2919aa4f7b",
   "metadata": {},
   "outputs": [],
   "source": [
    "import numpy as np\n",
    "import pandas as pd\n",
    "import matplotlib.pyplot as plt\n",
    "from sklearn import metrics,linear_model\n",
    "import math"
   ]
  },
  {
   "cell_type": "code",
   "execution_count": null,
   "id": "a71cabcc-00bd-42d7-8d54-d8d89f40cfce",
   "metadata": {},
   "outputs": [],
   "source": [
    "data=pd.read_csv(\"/Users\\AnithaGandluri/OneDrive/Anitha/Project management/Data Science/New folder/HomepricesMulti.csv\")\n",
    "data"
   ]
  },
  {
   "cell_type": "code",
   "execution_count": null,
   "id": "e4f53687-48a1-43d4-952c-bd965c826491",
   "metadata": {},
   "outputs": [],
   "source": [
    "data.Bedrooms.median()"
   ]
  },
  {
   "cell_type": "code",
   "execution_count": null,
   "id": "db08bba0-eafd-4197-b682-6706a23e40b5",
   "metadata": {},
   "outputs": [],
   "source": [
    "median_bedrooms=math.floor(data.Bedrooms.median())"
   ]
  },
  {
   "cell_type": "code",
   "execution_count": null,
   "id": "df2afe02-db19-4d5e-b593-416a8216122a",
   "metadata": {},
   "outputs": [],
   "source": [
    "data.Bedrooms=data.Bedrooms.fillna(median_bedrooms)\n",
    "data"
   ]
  },
  {
   "cell_type": "code",
   "execution_count": null,
   "id": "1c1fcb01-76d1-41fd-8678-f93242e3ea41",
   "metadata": {},
   "outputs": [],
   "source": [
    "reg=linear_model.LinearRegression()\n",
    "reg.fit(data[[\"Area\",\"Bedrooms\",\"age\"]],data.price)"
   ]
  },
  {
   "cell_type": "code",
   "execution_count": null,
   "id": "ae04ec98-060a-4a68-8946-c811a45de971",
   "metadata": {},
   "outputs": [],
   "source": [
    "reg.coef_,reg.intercept_"
   ]
  },
  {
   "cell_type": "code",
   "execution_count": null,
   "id": "98637e16-47b3-48e6-94a0-bbea1383c14e",
   "metadata": {},
   "outputs": [],
   "source": [
    "reg.predict([[3000,3,40]])"
   ]
  },
  {
   "cell_type": "code",
   "execution_count": null,
   "id": "459ee7f4-a319-4f83-87c5-474e47b9f2cd",
   "metadata": {},
   "outputs": [],
   "source": [
    "reg.predict([[3000,3,5]])"
   ]
  },
  {
   "cell_type": "markdown",
   "id": "4dbdc957-44f4-4974-a6bf-48b5a4252db4",
   "metadata": {
    "jp-MarkdownHeadingCollapsed": true,
    "tags": []
   },
   "source": [
    "## Predict salaries based on test score & experiance & interview scorevariables"
   ]
  },
  {
   "cell_type": "code",
   "execution_count": null,
   "id": "1b9c4f12-069e-4542-b0ca-435b6f6b8e79",
   "metadata": {},
   "outputs": [],
   "source": [
    "import numpy as np\n",
    "import pandas as pd\n",
    "import matplotlib.pyplot as plt\n",
    "from sklearn import linear_model\n",
    "import math\n",
    "from word2number import w2n"
   ]
  },
  {
   "cell_type": "code",
   "execution_count": null,
   "id": "8600e7aa-278a-42e3-8c38-bbea2b91968f",
   "metadata": {},
   "outputs": [],
   "source": [
    "\n",
    "data=pd.read_csv(\"/Users\\AnithaGandluri/OneDrive/Anitha/Project management/Data Science/New folder/Testscore.csv\")\n",
    "data"
   ]
  },
  {
   "cell_type": "code",
   "execution_count": null,
   "id": "c82faa49-f111-4bc3-bd97-d8ec957cdfd6",
   "metadata": {},
   "outputs": [],
   "source": [
    "!pip install word2number\n"
   ]
  },
  {
   "cell_type": "code",
   "execution_count": null,
   "id": "bcdd747b-8bb5-45be-ba87-a6e1915065ef",
   "metadata": {},
   "outputs": [],
   "source": [
    "data.experience=data.experience.fillna(\"zero\")"
   ]
  },
  {
   "cell_type": "code",
   "execution_count": null,
   "id": "3cac81dc-6917-4298-b27d-cab50467228b",
   "metadata": {},
   "outputs": [],
   "source": [
    "data.experience=data.experience.apply(w2n.word_to_num)\n",
    "data"
   ]
  },
  {
   "cell_type": "code",
   "execution_count": null,
   "id": "5e452632-0ca2-4621-b899-813215b0f51a",
   "metadata": {},
   "outputs": [],
   "source": [
    "median_test_score=math.floor(data.test_score.mean())\n",
    "data.test_score=data.test_score.fillna(median_test_score)\n",
    "data"
   ]
  },
  {
   "cell_type": "code",
   "execution_count": null,
   "id": "f84aeed1-7435-4ecd-998a-04573763d6d0",
   "metadata": {},
   "outputs": [],
   "source": [
    "reg=linear_model.LinearRegression()\n",
    "reg.fit(data[[\"experience\",\"test_score\",\"interview_score\",]],data.salary)"
   ]
  },
  {
   "cell_type": "code",
   "execution_count": null,
   "id": "ce130dd4-0f88-4d57-87d4-61ecbcd0870d",
   "metadata": {},
   "outputs": [],
   "source": [
    "reg.coef_,reg.intercept_"
   ]
  },
  {
   "cell_type": "code",
   "execution_count": null,
   "id": "dd6adefd-a71d-47c7-abbc-6800a614b561",
   "metadata": {},
   "outputs": [],
   "source": [
    "reg.predict([[2,9,6]])"
   ]
  },
  {
   "cell_type": "code",
   "execution_count": null,
   "id": "94954f65-469e-4cce-bb8d-f27741722ae4",
   "metadata": {},
   "outputs": [],
   "source": [
    "reg.predict([[12,10,10]])"
   ]
  },
  {
   "cell_type": "code",
   "execution_count": null,
   "id": "e92cc825-d849-466c-8952-86f3d096f33c",
   "metadata": {},
   "outputs": [],
   "source": [
    "reg.predict?"
   ]
  },
  {
   "cell_type": "code",
   "execution_count": null,
   "id": "ab5cb659-bda6-4d8e-a7f6-485a2d3360bc",
   "metadata": {},
   "outputs": [],
   "source": []
  }
 ],
 "metadata": {
  "kernelspec": {
   "display_name": "Python 3 (ipykernel)",
   "language": "python",
   "name": "python3"
  },
  "language_info": {
   "codemirror_mode": {
    "name": "ipython",
    "version": 3
   },
   "file_extension": ".py",
   "mimetype": "text/x-python",
   "name": "python",
   "nbconvert_exporter": "python",
   "pygments_lexer": "ipython3",
   "version": "3.9.12"
  }
 },
 "nbformat": 4,
 "nbformat_minor": 5
}
